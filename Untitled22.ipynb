{
 "cells": [
  {
   "cell_type": "code",
   "execution_count": 1,
   "id": "12c67d35-c7ae-4f27-a4f4-8446cd9c9c5d",
   "metadata": {},
   "outputs": [],
   "source": [
    "#Import the necessary packages\n",
    "import cv2\n",
    "import numpy as np\n",
    "import matplotlib.pyplot as plt"
   ]
  },
  {
   "cell_type": "code",
   "execution_count": null,
   "id": "8b554309-38ff-426b-bc71-acbd05880a2d",
   "metadata": {},
   "outputs": [],
   "source": [
    "#Create the Text using cv2.putText\n",
    "img = np.zeros((100, 550), dtype = 'uint8')\n",
    "font = cv2.FONT_ITALIC\n",
    "cv2.putText(img, 'VARDHAN', (5,70), font, 2, (255), 5, cv2.LINE_AA)\n",
    "n_img = cv2.cvtColor(img, cv2.COLOR_BGR2RGB)\n",
    "plt.imshow(n_img)\n",
    "plt.axis(\"off\")"
   ]
  }
 ],
 "metadata": {
  "kernelspec": {
   "display_name": "Python 3 (ipykernel)",
   "language": "python",
   "name": "python3"
  },
  "language_info": {
   "codemirror_mode": {
    "name": "ipython",
    "version": 3
   },
   "file_extension": ".py",
   "mimetype": "text/x-python",
   "name": "python",
   "nbconvert_exporter": "python",
   "pygments_lexer": "ipython3",
   "version": "3.11.11"
  }
 },
 "nbformat": 4,
 "nbformat_minor": 5
}
