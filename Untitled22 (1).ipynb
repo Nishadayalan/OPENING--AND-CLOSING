{
 "cells": [
  {
   "cell_type": "code",
   "execution_count": 1,
   "id": "12c67d35-c7ae-4f27-a4f4-8446cd9c9c5d",
   "metadata": {},
   "outputs": [],
   "source": [
    "#Import the necessary packages\n",
    "import cv2\n",
    "import numpy as np\n",
    "import matplotlib.pyplot as plt"
   ]
  },
  {
   "cell_type": "code",
   "execution_count": 8,
   "id": "15bfe1e3-b128-4f98-ac4e-86241da4e653",
   "metadata": {},
   "outputs": [
    {
     "name": "stdout",
     "output_type": "stream",
     "text": [
      "NISHA D\n",
      "212223230143\n"
     ]
    }
   ],
   "source": [
    "print(\"NISHA D\")\n",
    "print(\"212223230143\")"
   ]
  },
  {
   "cell_type": "code",
   "execution_count": 3,
   "id": "8b554309-38ff-426b-bc71-acbd05880a2d",
   "metadata": {},
   "outputs": [
    {
     "data": {
      "text/plain": [
       "(np.float64(-0.5), np.float64(549.5), np.float64(99.5), np.float64(-0.5))"
      ]
     },
     "execution_count": 3,
     "metadata": {},
     "output_type": "execute_result"
    },
    {
     "data": {
      "image/png": "[encoded data removed]",
      "text/plain": [
       "<Figure size 640x480 with 1 Axes>"
      ]
     },
     "metadata": {},
     "output_type": "display_data"
    }
   ],
   "source": [
    "#Create the Text using cv2.putText\n",
    "img = np.zeros((100, 550), dtype = 'uint8')\n",
    "font = cv2.FONT_ITALIC\n",
    "cv2.putText(img, 'NISHA', (5,70), font, 2, (255), 5, cv2.LINE_AA)\n",
    "n_img = cv2.cvtColor(img, cv2.COLOR_BGR2RGB)\n",
    "plt.imshow(n_img)\n",
    "plt.axis(\"off\")"
   ]
  },
  {
   "cell_type": "code",
   "execution_count": 4,
   "id": "a39ee61d-d94a-45b6-89a0-b4d3b6cbfb75",
   "metadata": {},
   "outputs": [],
   "source": [
    "#Create the structuring element\n",
    "kernel = cv2.getStructuringElement(cv2.MORPH_CROSS, (11,11))"
   ]
  },
  {
   "cell_type": "code",
   "execution_count": 5,
   "id": "4ee78d25-65c4-4b74-bd23-0a464521d48b",
   "metadata": {},
   "outputs": [
    {
     "data": {
      "text/plain": [
       "(np.float64(-0.5), np.float64(549.5), np.float64(99.5), np.float64(-0.5))"
      ]
     },
     "execution_count": 5,
     "metadata": {},
     "output_type": "execute_result"
    },
    {
     "data": {
      "image/png": "[encoded data removed]",
      "text/plain": [
       "<Figure size 640x480 with 1 Axes>"
      ]
     },
     "metadata": {},
     "output_type": "display_data"
    }
   ],
   "source": [
    "#Use Opening operation\n",
    "image_open = cv2.morphologyEx(n_img, cv2.MORPH_OPEN, kernel)\n",
    "plt.imshow(image_open)\n",
    "plt.axis(\"off\")"
   ]
  },
  {
   "cell_type": "code",
   "execution_count": 6,
   "id": "4dabb4a2-0e3f-4919-9e2e-a56e08f7a2b6",
   "metadata": {},
   "outputs": [
    {
     "data": {
      "text/plain": [
       "(np.float64(-0.5), np.float64(549.5), np.float64(99.5), np.float64(-0.5))"
      ]
     },
     "execution_count": 6,
     "metadata": {},
     "output_type": "execute_result"
    },
    {
     "data": {
      "image/png": "[encoded data removed]",
      "text/plain": [
       "<Figure size 640x480 with 1 Axes>"
      ]
     },
     "metadata": {},
     "output_type": "display_data"
    }
   ],
   "source": [
    "#Use Closing Operation\n",
    "image_close = cv2.morphologyEx(n_img, cv2.MORPH_CLOSE, kernel)\n",
    "plt.imshow(image_close)\n",
    "plt.axis(\"off\")\n",
    "     "
   ]
  },
  {
   "cell_type": "code",
   "execution_count": 7,
   "id": "e8d8ae2f-3169-42d7-b175-600beccb9add",
   "metadata": {},
   "outputs": [
    {
     "name": "stdout",
     "output_type": "stream",
     "text": [
      "NISHA D\n",
      "212223230143\n"
     ]
    }
   ],
   "source": [
    "print(\"NISHA D\")\n",
    "print(\"212223230143\")"
   ]
  },
  {
   "cell_type": "code",
   "execution_count": null,
   "id": "233bfa53-a99c-4bc3-81e6-f0dc792a8a23",
   "metadata": {},
   "outputs": [],
   "source": []
  }
 ],
 "metadata": {
  "kernelspec": {
   "display_name": "Python 3 (ipykernel)",
   "language": "python",
   "name": "python3"
  },
  "language_info": {
   "codemirror_mode": {
    "name": "ipython",
    "version": 3
   },
   "file_extension": ".py",
   "mimetype": "text/x-python",
   "name": "python",
   "nbconvert_exporter": "python",
   "pygments_lexer": "ipython3",
   "version": "3.11.11"
  }
 },
 "nbformat": 4,
 "nbformat_minor": 5
}
